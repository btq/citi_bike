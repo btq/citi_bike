{
 "cells": [
  {
   "cell_type": "code",
   "execution_count": 2,
   "metadata": {
    "collapsed": false
   },
   "outputs": [
    {
     "name": "stderr",
     "output_type": "stream",
     "text": [
      "/usr/local/lib/python3.4/dist-packages/matplotlib/backends/backend_gtk3agg.py:18: UserWarning: The Gtk3Agg backend is known to not work on Python 3.x with pycairo. Try installing cairocffi.\n",
      "  \"The Gtk3Agg backend is known to not work on Python 3.x with pycairo. \"\n",
      "/usr/local/lib/python3.4/dist-packages/matplotlib/__init__.py:872: UserWarning: axes.color_cycle is deprecated and replaced with axes.prop_cycle; please use the latter.\n",
      "  warnings.warn(self.msg_depr % (key, alt_key))\n"
     ]
    },
    {
     "name": "stdout",
     "output_type": "stream",
     "text": [
      "numpy 1.10.2\n",
      "pandas 0.17.1\n",
      "seaborn 0.6.0\n"
     ]
    }
   ],
   "source": [
    "import zipfile\n",
    "import requests\n",
    "import numpy as np\n",
    "print('numpy '+ np.__version__)\n",
    "import pandas as pd\n",
    "print ('pandas '+ pd.__version__)\n",
    "import seaborn as sns\n",
    "print('seaborn '+ sns.__version__)\n",
    "import matplotlib.pyplot as plt\n",
    "\n",
    "%matplotlib inline"
   ]
  },
  {
   "cell_type": "markdown",
   "metadata": {},
   "source": [
    "## Station data\n",
    "First, I can pull the station data from the citbike website. This is actually the status of the stations currently, so there may be stations online now that were not when that data was pulled.\n",
    "I will request the json station data, and convert it to a pandas data frame."
   ]
  },
  {
   "cell_type": "code",
   "execution_count": 3,
   "metadata": {
    "collapsed": false
   },
   "outputs": [
    {
     "data": {
      "text/plain": [
       "dict_keys(['stationBeanList', 'executionTime'])"
      ]
     },
     "execution_count": 3,
     "metadata": {},
     "output_type": "execute_result"
    }
   ],
   "source": [
    "#Station information\n",
    "station_status_url = 'http://www.citibikenyc.com/stations/json'\n",
    "resp=requests.get(station_status_url)\n",
    "resp.json().keys()"
   ]
  },
  {
   "cell_type": "code",
   "execution_count": 6,
   "metadata": {
    "collapsed": false
   },
   "outputs": [
    {
     "data": {
      "text/plain": [
       "{'altitude': '',\n",
       " 'availableBikes': 8,\n",
       " 'availableDocks': 30,\n",
       " 'city': '',\n",
       " 'id': 72,\n",
       " 'landMark': '',\n",
       " 'lastCommunicationTime': '2016-01-08 04:30:32 PM',\n",
       " 'latitude': 40.76727216,\n",
       " 'location': '',\n",
       " 'longitude': -73.99392888,\n",
       " 'postalCode': '',\n",
       " 'stAddress1': 'W 52 St & 11 Ave',\n",
       " 'stAddress2': '',\n",
       " 'stationName': 'W 52 St & 11 Ave',\n",
       " 'statusKey': 1,\n",
       " 'statusValue': 'In Service',\n",
       " 'testStation': False,\n",
       " 'totalDocks': 39}"
      ]
     },
     "execution_count": 6,
     "metadata": {},
     "output_type": "execute_result"
    }
   ],
   "source": [
    "resp.json()['stationBeanList'][0]"
   ]
  },
  {
   "cell_type": "code",
   "execution_count": 8,
   "metadata": {
    "collapsed": false
   },
   "outputs": [
    {
     "data": {
      "text/html": [
       "<div>\n",
       "<table border=\"1\" class=\"dataframe\">\n",
       "  <thead>\n",
       "    <tr style=\"text-align: right;\">\n",
       "      <th></th>\n",
       "      <th>altitude</th>\n",
       "      <th>availableBikes</th>\n",
       "      <th>availableDocks</th>\n",
       "      <th>city</th>\n",
       "      <th>id</th>\n",
       "      <th>landMark</th>\n",
       "      <th>lastCommunicationTime</th>\n",
       "      <th>latitude</th>\n",
       "      <th>location</th>\n",
       "      <th>longitude</th>\n",
       "      <th>postalCode</th>\n",
       "      <th>stAddress1</th>\n",
       "      <th>stAddress2</th>\n",
       "      <th>stationName</th>\n",
       "      <th>statusKey</th>\n",
       "      <th>statusValue</th>\n",
       "      <th>testStation</th>\n",
       "      <th>totalDocks</th>\n",
       "    </tr>\n",
       "  </thead>\n",
       "  <tbody>\n",
       "    <tr>\n",
       "      <th>0</th>\n",
       "      <td></td>\n",
       "      <td>8</td>\n",
       "      <td>30</td>\n",
       "      <td></td>\n",
       "      <td>72</td>\n",
       "      <td></td>\n",
       "      <td>2016-01-08 04:30:32 PM</td>\n",
       "      <td>40.767272</td>\n",
       "      <td></td>\n",
       "      <td>-73.993929</td>\n",
       "      <td></td>\n",
       "      <td>W 52 St &amp; 11 Ave</td>\n",
       "      <td></td>\n",
       "      <td>W 52 St &amp; 11 Ave</td>\n",
       "      <td>1</td>\n",
       "      <td>In Service</td>\n",
       "      <td>False</td>\n",
       "      <td>39</td>\n",
       "    </tr>\n",
       "    <tr>\n",
       "      <th>1</th>\n",
       "      <td></td>\n",
       "      <td>18</td>\n",
       "      <td>15</td>\n",
       "      <td></td>\n",
       "      <td>79</td>\n",
       "      <td></td>\n",
       "      <td>2016-01-08 04:30:26 PM</td>\n",
       "      <td>40.719116</td>\n",
       "      <td></td>\n",
       "      <td>-74.006667</td>\n",
       "      <td></td>\n",
       "      <td>Franklin St &amp; W Broadway</td>\n",
       "      <td></td>\n",
       "      <td>Franklin St &amp; W Broadway</td>\n",
       "      <td>1</td>\n",
       "      <td>In Service</td>\n",
       "      <td>False</td>\n",
       "      <td>33</td>\n",
       "    </tr>\n",
       "  </tbody>\n",
       "</table>\n",
       "</div>"
      ],
      "text/plain": [
       "  altitude  availableBikes  availableDocks city  id landMark  \\\n",
       "0                        8              30       72            \n",
       "1                       18              15       79            \n",
       "\n",
       "    lastCommunicationTime   latitude location  longitude postalCode  \\\n",
       "0  2016-01-08 04:30:32 PM  40.767272          -73.993929              \n",
       "1  2016-01-08 04:30:26 PM  40.719116          -74.006667              \n",
       "\n",
       "                 stAddress1 stAddress2               stationName  statusKey  \\\n",
       "0          W 52 St & 11 Ave                     W 52 St & 11 Ave          1   \n",
       "1  Franklin St & W Broadway             Franklin St & W Broadway          1   \n",
       "\n",
       "  statusValue testStation  totalDocks  \n",
       "0  In Service       False          39  \n",
       "1  In Service       False          33  "
      ]
     },
     "execution_count": 8,
     "metadata": {},
     "output_type": "execute_result"
    }
   ],
   "source": [
    "station_info = pd.DataFrame(resp.json()['stationBeanList'])\n",
    "station_info.head(2)"
   ]
  },
  {
   "cell_type": "code",
   "execution_count": 10,
   "metadata": {
    "collapsed": false
   },
   "outputs": [
    {
     "data": {
      "text/html": [
       "<div>\n",
       "<table border=\"1\" class=\"dataframe\">\n",
       "  <thead>\n",
       "    <tr style=\"text-align: right;\">\n",
       "      <th></th>\n",
       "      <th>tripduration</th>\n",
       "      <th>starttime</th>\n",
       "      <th>stoptime</th>\n",
       "      <th>start station id</th>\n",
       "      <th>start station name</th>\n",
       "      <th>start station latitude</th>\n",
       "      <th>start station longitude</th>\n",
       "      <th>end station id</th>\n",
       "      <th>end station name</th>\n",
       "      <th>end station latitude</th>\n",
       "      <th>end station longitude</th>\n",
       "      <th>bikeid</th>\n",
       "      <th>usertype</th>\n",
       "      <th>birth year</th>\n",
       "      <th>gender</th>\n",
       "    </tr>\n",
       "  </thead>\n",
       "  <tbody>\n",
       "    <tr>\n",
       "      <th>0</th>\n",
       "      <td>171</td>\n",
       "      <td>10/1/2015 00:00:02</td>\n",
       "      <td>10/1/2015 00:02:54</td>\n",
       "      <td>388</td>\n",
       "      <td>W 26 St &amp; 10 Ave</td>\n",
       "      <td>40.749718</td>\n",
       "      <td>-74.002950</td>\n",
       "      <td>494</td>\n",
       "      <td>W 26 St &amp; 8 Ave</td>\n",
       "      <td>40.747348</td>\n",
       "      <td>-73.997236</td>\n",
       "      <td>24302</td>\n",
       "      <td>Subscriber</td>\n",
       "      <td>1973</td>\n",
       "      <td>1</td>\n",
       "    </tr>\n",
       "    <tr>\n",
       "      <th>1</th>\n",
       "      <td>593</td>\n",
       "      <td>10/1/2015 00:00:02</td>\n",
       "      <td>10/1/2015 00:09:55</td>\n",
       "      <td>518</td>\n",
       "      <td>E 39 St &amp; 2 Ave</td>\n",
       "      <td>40.747804</td>\n",
       "      <td>-73.973442</td>\n",
       "      <td>438</td>\n",
       "      <td>St Marks Pl &amp; 1 Ave</td>\n",
       "      <td>40.727791</td>\n",
       "      <td>-73.985649</td>\n",
       "      <td>19904</td>\n",
       "      <td>Subscriber</td>\n",
       "      <td>1990</td>\n",
       "      <td>1</td>\n",
       "    </tr>\n",
       "    <tr>\n",
       "      <th>2</th>\n",
       "      <td>233</td>\n",
       "      <td>10/1/2015 00:00:11</td>\n",
       "      <td>10/1/2015 00:04:05</td>\n",
       "      <td>447</td>\n",
       "      <td>8 Ave &amp; W 52 St</td>\n",
       "      <td>40.763707</td>\n",
       "      <td>-73.985162</td>\n",
       "      <td>447</td>\n",
       "      <td>8 Ave &amp; W 52 St</td>\n",
       "      <td>40.763707</td>\n",
       "      <td>-73.985162</td>\n",
       "      <td>17797</td>\n",
       "      <td>Subscriber</td>\n",
       "      <td>1984</td>\n",
       "      <td>1</td>\n",
       "    </tr>\n",
       "  </tbody>\n",
       "</table>\n",
       "</div>"
      ],
      "text/plain": [
       "   tripduration           starttime            stoptime  start station id  \\\n",
       "0           171  10/1/2015 00:00:02  10/1/2015 00:02:54               388   \n",
       "1           593  10/1/2015 00:00:02  10/1/2015 00:09:55               518   \n",
       "2           233  10/1/2015 00:00:11  10/1/2015 00:04:05               447   \n",
       "\n",
       "  start station name  start station latitude  start station longitude  \\\n",
       "0   W 26 St & 10 Ave               40.749718               -74.002950   \n",
       "1    E 39 St & 2 Ave               40.747804               -73.973442   \n",
       "2    8 Ave & W 52 St               40.763707               -73.985162   \n",
       "\n",
       "   end station id     end station name  end station latitude  \\\n",
       "0             494      W 26 St & 8 Ave             40.747348   \n",
       "1             438  St Marks Pl & 1 Ave             40.727791   \n",
       "2             447      8 Ave & W 52 St             40.763707   \n",
       "\n",
       "   end station longitude  bikeid    usertype  birth year  gender  \n",
       "0             -73.997236   24302  Subscriber        1973       1  \n",
       "1             -73.985649   19904  Subscriber        1990       1  \n",
       "2             -73.985162   17797  Subscriber        1984       1  "
      ]
     },
     "execution_count": 10,
     "metadata": {},
     "output_type": "execute_result"
    }
   ],
   "source": [
    "filename = 'data/201510-citibike-tripdata.zip'\n",
    "with zipfile.ZipFile(filename) as myzip:\n",
    "    with myzip.open(myzip.namelist()[0]) as myfile:\n",
    "        cb_trip_df = pd.read_csv(myfile)\n",
    "cb_trip_df.head(3)"
   ]
  },
  {
   "cell_type": "code",
   "execution_count": 11,
   "metadata": {
    "collapsed": false
   },
   "outputs": [
    {
     "name": "stdout",
     "output_type": "stream",
     "text": [
      "<class 'pandas.core.frame.DataFrame'>\n",
      "Int64Index: 1212277 entries, 0 to 1212276\n",
      "Data columns (total 15 columns):\n",
      "tripduration               1212277 non-null int64\n",
      "starttime                  1212277 non-null object\n",
      "stoptime                   1212277 non-null object\n",
      "start station id           1212277 non-null int64\n",
      "start station name         1212277 non-null object\n",
      "start station latitude     1212277 non-null float64\n",
      "start station longitude    1212277 non-null float64\n",
      "end station id             1212277 non-null int64\n",
      "end station name           1212277 non-null object\n",
      "end station latitude       1212277 non-null float64\n",
      "end station longitude      1212277 non-null float64\n",
      "bikeid                     1212277 non-null int64\n",
      "usertype                   1212277 non-null object\n",
      "birth year                 1065765 non-null float64\n",
      "gender                     1212277 non-null int64\n",
      "dtypes: float64(5), int64(5), object(5)\n",
      "memory usage: 148.0+ MB\n"
     ]
    }
   ],
   "source": [
    "cb_trip_df.info()"
   ]
  },
  {
   "cell_type": "markdown",
   "metadata": {},
   "source": [
    "I am giong to do a bunch of datetime converting and add columns with more specific and useful info. These will be:\n",
    "* Start Hour\n",
    "* Start Minute\n",
    "* Start Year\n",
    "* Stop Hour\n",
    "* Stop Minute\n",
    "* Weekday\n",
    "* User Age"
   ]
  },
  {
   "cell_type": "code",
   "execution_count": null,
   "metadata": {
    "collapsed": true
   },
   "outputs": [],
   "source": [
    "# Convert to datetime timestamps\n",
    "cb_trip_df['starttime']=pd.to_datetime(cb_trip_df['starttime'],infer_datetime_format=True)\n",
    "cb_trip_df['stoptime']=pd.to_datetime(cb_trip_df['stoptime'],infer_datetime_format=True)"
   ]
  },
  {
   "cell_type": "code",
   "execution_count": 30,
   "metadata": {
    "collapsed": false
   },
   "outputs": [
    {
     "name": "stdout",
     "output_type": "stream",
     "text": [
      "<class 'pandas.core.frame.DataFrame'>\n",
      "Int64Index: 1212277 entries, 0 to 1212276\n",
      "Data columns (total 17 columns):\n",
      "tripduration               1212277 non-null int64\n",
      "starttime                  1212277 non-null datetime64[ns]\n",
      "stoptime                   1212277 non-null datetime64[ns]\n",
      "start station id           1212277 non-null int64\n",
      "start station name         1212277 non-null object\n",
      "start station latitude     1212277 non-null float64\n",
      "start station longitude    1212277 non-null float64\n",
      "end station id             1212277 non-null int64\n",
      "end station name           1212277 non-null object\n",
      "end station latitude       1212277 non-null float64\n",
      "end station longitude      1212277 non-null float64\n",
      "bikeid                     1212277 non-null int64\n",
      "usertype                   1212277 non-null object\n",
      "birth year                 1065765 non-null float64\n",
      "gender                     1212277 non-null int64\n",
      "startyear                  1212277 non-null int64\n",
      "userage                    1065765 non-null float64\n",
      "dtypes: datetime64[ns](2), float64(6), int64(6), object(3)\n",
      "memory usage: 166.5+ MB\n"
     ]
    }
   ],
   "source": [
    "cb_trip_df['startyear']=cb_trip_df['starttime'].apply(lambda x: x.year)\n",
    "cb_trip_df['starthour']=cb_trip_df['starttime'].apply(lambda x: x.hour)\n",
    "cb_trip_df['startminute']=cb_trip_df['starttime'].apply(lambda x: x.minute)\n",
    "cb_trip_df['stophour']=cb_trip_df['stoptime'].apply(lambda x: x.hour)\n",
    "cb_trip_df['stopminute']=cb_trip_df['stoptime'].apply(lambda x: x.minute)\n",
    "cb_trip_df['weekday']=cb_trip_df['starttime'].apply(lambda x: x.year)\n",
    "cb_trip_df['userage']=cb_trip_df['startyear']-cb_trip_df['birth year']\n",
    "cb_trip_df.info()"
   ]
  },
  {
   "cell_type": "code",
   "execution_count": 12,
   "metadata": {
    "collapsed": false
   },
   "outputs": [
    {
     "data": {
      "text/html": [
       "<div>\n",
       "<table border=\"1\" class=\"dataframe\">\n",
       "  <thead>\n",
       "    <tr style=\"text-align: right;\">\n",
       "      <th></th>\n",
       "      <th>tripduration</th>\n",
       "      <th>start station id</th>\n",
       "      <th>start station latitude</th>\n",
       "      <th>start station longitude</th>\n",
       "      <th>end station id</th>\n",
       "      <th>end station latitude</th>\n",
       "      <th>end station longitude</th>\n",
       "      <th>bikeid</th>\n",
       "      <th>birth year</th>\n",
       "      <th>gender</th>\n",
       "    </tr>\n",
       "  </thead>\n",
       "  <tbody>\n",
       "    <tr>\n",
       "      <th>count</th>\n",
       "      <td>1212277.000000</td>\n",
       "      <td>1212277.000000</td>\n",
       "      <td>1212277.000000</td>\n",
       "      <td>1212277.000000</td>\n",
       "      <td>1212277.000000</td>\n",
       "      <td>1212277.000000</td>\n",
       "      <td>1212277.000000</td>\n",
       "      <td>1212277.000000</td>\n",
       "      <td>1065765.000000</td>\n",
       "      <td>1212277.000000</td>\n",
       "    </tr>\n",
       "    <tr>\n",
       "      <th>mean</th>\n",
       "      <td>1079.953503</td>\n",
       "      <td>854.721656</td>\n",
       "      <td>40.738163</td>\n",
       "      <td>-73.987240</td>\n",
       "      <td>831.900867</td>\n",
       "      <td>40.737799</td>\n",
       "      <td>-73.987498</td>\n",
       "      <td>20463.262857</td>\n",
       "      <td>1976.995876</td>\n",
       "      <td>1.089422</td>\n",
       "    </tr>\n",
       "    <tr>\n",
       "      <th>std</th>\n",
       "      <td>9985.845810</td>\n",
       "      <td>1011.772614</td>\n",
       "      <td>0.021916</td>\n",
       "      <td>0.015509</td>\n",
       "      <td>990.502413</td>\n",
       "      <td>0.021743</td>\n",
       "      <td>0.015490</td>\n",
       "      <td>3008.946507</td>\n",
       "      <td>11.590119</td>\n",
       "      <td>0.571169</td>\n",
       "    </tr>\n",
       "    <tr>\n",
       "      <th>min</th>\n",
       "      <td>61.000000</td>\n",
       "      <td>72.000000</td>\n",
       "      <td>40.678907</td>\n",
       "      <td>-74.017134</td>\n",
       "      <td>72.000000</td>\n",
       "      <td>40.646768</td>\n",
       "      <td>-74.046305</td>\n",
       "      <td>14529.000000</td>\n",
       "      <td>1885.000000</td>\n",
       "      <td>0.000000</td>\n",
       "    </tr>\n",
       "    <tr>\n",
       "      <th>25%</th>\n",
       "      <td>388.000000</td>\n",
       "      <td>329.000000</td>\n",
       "      <td>40.722281</td>\n",
       "      <td>-73.998004</td>\n",
       "      <td>327.000000</td>\n",
       "      <td>40.722174</td>\n",
       "      <td>-73.998393</td>\n",
       "      <td>17822.000000</td>\n",
       "      <td>1969.000000</td>\n",
       "      <td>1.000000</td>\n",
       "    </tr>\n",
       "    <tr>\n",
       "      <th>50%</th>\n",
       "      <td>633.000000</td>\n",
       "      <td>448.000000</td>\n",
       "      <td>40.739323</td>\n",
       "      <td>-73.988900</td>\n",
       "      <td>446.000000</td>\n",
       "      <td>40.739126</td>\n",
       "      <td>-73.989151</td>\n",
       "      <td>21241.000000</td>\n",
       "      <td>1979.000000</td>\n",
       "      <td>1.000000</td>\n",
       "    </tr>\n",
       "    <tr>\n",
       "      <th>75%</th>\n",
       "      <td>1056.000000</td>\n",
       "      <td>521.000000</td>\n",
       "      <td>40.753231</td>\n",
       "      <td>-73.977910</td>\n",
       "      <td>519.000000</td>\n",
       "      <td>40.752996</td>\n",
       "      <td>-73.978059</td>\n",
       "      <td>23176.000000</td>\n",
       "      <td>1986.000000</td>\n",
       "      <td>1.000000</td>\n",
       "    </tr>\n",
       "    <tr>\n",
       "      <th>max</th>\n",
       "      <td>3139345.000000</td>\n",
       "      <td>3237.000000</td>\n",
       "      <td>40.787209</td>\n",
       "      <td>-73.929891</td>\n",
       "      <td>3237.000000</td>\n",
       "      <td>40.787209</td>\n",
       "      <td>-73.929891</td>\n",
       "      <td>24743.000000</td>\n",
       "      <td>1999.000000</td>\n",
       "      <td>2.000000</td>\n",
       "    </tr>\n",
       "  </tbody>\n",
       "</table>\n",
       "</div>"
      ],
      "text/plain": [
       "         tripduration  start station id  start station latitude  \\\n",
       "count  1212277.000000    1212277.000000          1212277.000000   \n",
       "mean      1079.953503        854.721656               40.738163   \n",
       "std       9985.845810       1011.772614                0.021916   \n",
       "min         61.000000         72.000000               40.678907   \n",
       "25%        388.000000        329.000000               40.722281   \n",
       "50%        633.000000        448.000000               40.739323   \n",
       "75%       1056.000000        521.000000               40.753231   \n",
       "max    3139345.000000       3237.000000               40.787209   \n",
       "\n",
       "       start station longitude  end station id  end station latitude  \\\n",
       "count           1212277.000000  1212277.000000        1212277.000000   \n",
       "mean                -73.987240      831.900867             40.737799   \n",
       "std                   0.015509      990.502413              0.021743   \n",
       "min                 -74.017134       72.000000             40.646768   \n",
       "25%                 -73.998004      327.000000             40.722174   \n",
       "50%                 -73.988900      446.000000             40.739126   \n",
       "75%                 -73.977910      519.000000             40.752996   \n",
       "max                 -73.929891     3237.000000             40.787209   \n",
       "\n",
       "       end station longitude          bikeid      birth year          gender  \n",
       "count         1212277.000000  1212277.000000  1065765.000000  1212277.000000  \n",
       "mean              -73.987498    20463.262857     1976.995876        1.089422  \n",
       "std                 0.015490     3008.946507       11.590119        0.571169  \n",
       "min               -74.046305    14529.000000     1885.000000        0.000000  \n",
       "25%               -73.998393    17822.000000     1969.000000        1.000000  \n",
       "50%               -73.989151    21241.000000     1979.000000        1.000000  \n",
       "75%               -73.978059    23176.000000     1986.000000        1.000000  \n",
       "max               -73.929891    24743.000000     1999.000000        2.000000  "
      ]
     },
     "execution_count": 12,
     "metadata": {},
     "output_type": "execute_result"
    }
   ],
   "source": [
    "cb_trip_df.describe()"
   ]
  },
  {
   "cell_type": "code",
   "execution_count": 10,
   "metadata": {
    "collapsed": false
   },
   "outputs": [
    {
     "data": {
      "text/plain": [
       "(1212277, 15)"
      ]
     },
     "execution_count": 10,
     "metadata": {},
     "output_type": "execute_result"
    }
   ],
   "source": [
    "cb_dat.shape"
   ]
  },
  {
   "cell_type": "code",
   "execution_count": 11,
   "metadata": {
    "collapsed": false
   },
   "outputs": [
    {
     "data": {
      "text/html": [
       "<div>\n",
       "<table border=\"1\" class=\"dataframe\">\n",
       "  <thead>\n",
       "    <tr style=\"text-align: right;\">\n",
       "      <th></th>\n",
       "      <th>tripduration</th>\n",
       "      <th>start station id</th>\n",
       "      <th>start station latitude</th>\n",
       "      <th>start station longitude</th>\n",
       "      <th>end station id</th>\n",
       "      <th>end station latitude</th>\n",
       "      <th>end station longitude</th>\n",
       "      <th>bikeid</th>\n",
       "      <th>birth year</th>\n",
       "      <th>gender</th>\n",
       "    </tr>\n",
       "  </thead>\n",
       "  <tbody>\n",
       "    <tr>\n",
       "      <th>count</th>\n",
       "      <td>1212277.000000</td>\n",
       "      <td>1212277.000000</td>\n",
       "      <td>1212277.000000</td>\n",
       "      <td>1212277.000000</td>\n",
       "      <td>1212277.000000</td>\n",
       "      <td>1212277.000000</td>\n",
       "      <td>1212277.000000</td>\n",
       "      <td>1212277.000000</td>\n",
       "      <td>1065765.000000</td>\n",
       "      <td>1212277.000000</td>\n",
       "    </tr>\n",
       "    <tr>\n",
       "      <th>mean</th>\n",
       "      <td>1079.953503</td>\n",
       "      <td>854.721656</td>\n",
       "      <td>40.738163</td>\n",
       "      <td>-73.987240</td>\n",
       "      <td>831.900867</td>\n",
       "      <td>40.737799</td>\n",
       "      <td>-73.987498</td>\n",
       "      <td>20463.262857</td>\n",
       "      <td>1976.995876</td>\n",
       "      <td>1.089422</td>\n",
       "    </tr>\n",
       "    <tr>\n",
       "      <th>std</th>\n",
       "      <td>9985.845810</td>\n",
       "      <td>1011.772614</td>\n",
       "      <td>0.021916</td>\n",
       "      <td>0.015509</td>\n",
       "      <td>990.502413</td>\n",
       "      <td>0.021743</td>\n",
       "      <td>0.015490</td>\n",
       "      <td>3008.946507</td>\n",
       "      <td>11.590119</td>\n",
       "      <td>0.571169</td>\n",
       "    </tr>\n",
       "    <tr>\n",
       "      <th>min</th>\n",
       "      <td>61.000000</td>\n",
       "      <td>72.000000</td>\n",
       "      <td>40.678907</td>\n",
       "      <td>-74.017134</td>\n",
       "      <td>72.000000</td>\n",
       "      <td>40.646768</td>\n",
       "      <td>-74.046305</td>\n",
       "      <td>14529.000000</td>\n",
       "      <td>1885.000000</td>\n",
       "      <td>0.000000</td>\n",
       "    </tr>\n",
       "    <tr>\n",
       "      <th>25%</th>\n",
       "      <td>388.000000</td>\n",
       "      <td>329.000000</td>\n",
       "      <td>40.722281</td>\n",
       "      <td>-73.998004</td>\n",
       "      <td>327.000000</td>\n",
       "      <td>40.722174</td>\n",
       "      <td>-73.998393</td>\n",
       "      <td>17822.000000</td>\n",
       "      <td>1969.000000</td>\n",
       "      <td>1.000000</td>\n",
       "    </tr>\n",
       "    <tr>\n",
       "      <th>50%</th>\n",
       "      <td>633.000000</td>\n",
       "      <td>448.000000</td>\n",
       "      <td>40.739323</td>\n",
       "      <td>-73.988900</td>\n",
       "      <td>446.000000</td>\n",
       "      <td>40.739126</td>\n",
       "      <td>-73.989151</td>\n",
       "      <td>21241.000000</td>\n",
       "      <td>1979.000000</td>\n",
       "      <td>1.000000</td>\n",
       "    </tr>\n",
       "    <tr>\n",
       "      <th>75%</th>\n",
       "      <td>1056.000000</td>\n",
       "      <td>521.000000</td>\n",
       "      <td>40.753231</td>\n",
       "      <td>-73.977910</td>\n",
       "      <td>519.000000</td>\n",
       "      <td>40.752996</td>\n",
       "      <td>-73.978059</td>\n",
       "      <td>23176.000000</td>\n",
       "      <td>1986.000000</td>\n",
       "      <td>1.000000</td>\n",
       "    </tr>\n",
       "    <tr>\n",
       "      <th>max</th>\n",
       "      <td>3139345.000000</td>\n",
       "      <td>3237.000000</td>\n",
       "      <td>40.787209</td>\n",
       "      <td>-73.929891</td>\n",
       "      <td>3237.000000</td>\n",
       "      <td>40.787209</td>\n",
       "      <td>-73.929891</td>\n",
       "      <td>24743.000000</td>\n",
       "      <td>1999.000000</td>\n",
       "      <td>2.000000</td>\n",
       "    </tr>\n",
       "  </tbody>\n",
       "</table>\n",
       "</div>"
      ],
      "text/plain": [
       "         tripduration  start station id  start station latitude  \\\n",
       "count  1212277.000000    1212277.000000          1212277.000000   \n",
       "mean      1079.953503        854.721656               40.738163   \n",
       "std       9985.845810       1011.772614                0.021916   \n",
       "min         61.000000         72.000000               40.678907   \n",
       "25%        388.000000        329.000000               40.722281   \n",
       "50%        633.000000        448.000000               40.739323   \n",
       "75%       1056.000000        521.000000               40.753231   \n",
       "max    3139345.000000       3237.000000               40.787209   \n",
       "\n",
       "       start station longitude  end station id  end station latitude  \\\n",
       "count           1212277.000000  1212277.000000        1212277.000000   \n",
       "mean                -73.987240      831.900867             40.737799   \n",
       "std                   0.015509      990.502413              0.021743   \n",
       "min                 -74.017134       72.000000             40.646768   \n",
       "25%                 -73.998004      327.000000             40.722174   \n",
       "50%                 -73.988900      446.000000             40.739126   \n",
       "75%                 -73.977910      519.000000             40.752996   \n",
       "max                 -73.929891     3237.000000             40.787209   \n",
       "\n",
       "       end station longitude          bikeid      birth year          gender  \n",
       "count         1212277.000000  1212277.000000  1065765.000000  1212277.000000  \n",
       "mean              -73.987498    20463.262857     1976.995876        1.089422  \n",
       "std                 0.015490     3008.946507       11.590119        0.571169  \n",
       "min               -74.046305    14529.000000     1885.000000        0.000000  \n",
       "25%               -73.998393    17822.000000     1969.000000        1.000000  \n",
       "50%               -73.989151    21241.000000     1979.000000        1.000000  \n",
       "75%               -73.978059    23176.000000     1986.000000        1.000000  \n",
       "max               -73.929891    24743.000000     1999.000000        2.000000  "
      ]
     },
     "execution_count": 11,
     "metadata": {},
     "output_type": "execute_result"
    }
   ],
   "source": [
    "cb_dat.describe()"
   ]
  },
  {
   "cell_type": "code",
   "execution_count": 17,
   "metadata": {
    "collapsed": false
   },
   "outputs": [
    {
     "data": {
      "image/png": "[encoded data removed]",
      "text/plain": [
       "<matplotlib.figure.Figure at 0xb68713a470>"
      ]
     },
     "metadata": {},
     "output_type": "display_data"
    }
   ],
   "source": [
    "fig,ax = plt.subplots(figsize=(9,9))\n",
    "ax."
   ]
  },
  {
   "cell_type": "code",
   "execution_count": null,
   "metadata": {
    "collapsed": true
   },
   "outputs": [],
   "source": []
  }
 ],
 "metadata": {
  "kernelspec": {
   "display_name": "Python 3",
   "language": "python",
   "name": "python3"
  },
  "language_info": {
   "codemirror_mode": {
    "name": "ipython",
    "version": 3
   },
   "file_extension": ".py",
   "mimetype": "text/x-python",
   "name": "python",
   "nbconvert_exporter": "python",
   "pygments_lexer": "ipython3",
   "version": "3.4.3"
  }
 },
 "nbformat": 4,
 "nbformat_minor": 0
}
